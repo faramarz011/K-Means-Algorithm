{
 "cells": [
  {
   "cell_type": "code",
   "execution_count": 1,
   "id": "53a0e4d4-dbd3-4a44-a193-63054e27dc6a",
   "metadata": {},
   "outputs": [
    {
     "name": "stderr",
     "output_type": "stream",
     "text": [
      "C:\\Users\\shayan\\AppData\\Local\\Temp\\ipykernel_21240\\4166170531.py:5: DeprecationWarning: \n",
      "Pyarrow will become a required dependency of pandas in the next major release of pandas (pandas 3.0),\n",
      "(to allow more performant data types, such as the Arrow string type, and better interoperability with other libraries)\n",
      "but was not found to be installed on your system.\n",
      "If this would cause problems for you,\n",
      "please provide us feedback at https://github.com/pandas-dev/pandas/issues/54466\n",
      "        \n",
      "  import pandas as pd\n"
     ]
    }
   ],
   "source": [
    "import random \n",
    "import numpy as np \n",
    "import matplotlib.pyplot as plt \n",
    "import sklearn as sk\n",
    "import pandas as pd\n",
    "import random\n",
    "import math"
   ]
  },
  {
   "cell_type": "markdown",
   "id": "ebef9ebb-9aea-48a2-86b0-441afaa2ebd5",
   "metadata": {},
   "source": [
    "# Read Customers.csv file"
   ]
  },
  {
   "cell_type": "code",
   "execution_count": 2,
   "id": "f333fb34-378b-4c6a-ba7a-bc98877a1d63",
   "metadata": {},
   "outputs": [
    {
     "data": {
      "text/html": [
       "<div>\n",
       "<style scoped>\n",
       "    .dataframe tbody tr th:only-of-type {\n",
       "        vertical-align: middle;\n",
       "    }\n",
       "\n",
       "    .dataframe tbody tr th {\n",
       "        vertical-align: top;\n",
       "    }\n",
       "\n",
       "    .dataframe thead th {\n",
       "        text-align: right;\n",
       "    }\n",
       "</style>\n",
       "<table border=\"1\" class=\"dataframe\">\n",
       "  <thead>\n",
       "    <tr style=\"text-align: right;\">\n",
       "      <th></th>\n",
       "      <th>CustomerID</th>\n",
       "      <th>Gender</th>\n",
       "      <th>Age</th>\n",
       "      <th>Annual Income (k$)</th>\n",
       "      <th>Spending Score (1-100)</th>\n",
       "    </tr>\n",
       "  </thead>\n",
       "  <tbody>\n",
       "    <tr>\n",
       "      <th>0</th>\n",
       "      <td>1</td>\n",
       "      <td>Male</td>\n",
       "      <td>19</td>\n",
       "      <td>15</td>\n",
       "      <td>39</td>\n",
       "    </tr>\n",
       "    <tr>\n",
       "      <th>1</th>\n",
       "      <td>2</td>\n",
       "      <td>Male</td>\n",
       "      <td>21</td>\n",
       "      <td>15</td>\n",
       "      <td>81</td>\n",
       "    </tr>\n",
       "    <tr>\n",
       "      <th>2</th>\n",
       "      <td>3</td>\n",
       "      <td>Female</td>\n",
       "      <td>20</td>\n",
       "      <td>16</td>\n",
       "      <td>6</td>\n",
       "    </tr>\n",
       "    <tr>\n",
       "      <th>3</th>\n",
       "      <td>4</td>\n",
       "      <td>Female</td>\n",
       "      <td>23</td>\n",
       "      <td>16</td>\n",
       "      <td>77</td>\n",
       "    </tr>\n",
       "    <tr>\n",
       "      <th>4</th>\n",
       "      <td>5</td>\n",
       "      <td>Female</td>\n",
       "      <td>31</td>\n",
       "      <td>17</td>\n",
       "      <td>40</td>\n",
       "    </tr>\n",
       "  </tbody>\n",
       "</table>\n",
       "</div>"
      ],
      "text/plain": [
       "   CustomerID  Gender  Age  Annual Income (k$)  Spending Score (1-100)\n",
       "0           1    Male   19                  15                      39\n",
       "1           2    Male   21                  15                      81\n",
       "2           3  Female   20                  16                       6\n",
       "3           4  Female   23                  16                      77\n",
       "4           5  Female   31                  17                      40"
      ]
     },
     "execution_count": 2,
     "metadata": {},
     "output_type": "execute_result"
    }
   ],
   "source": [
    "cust_df = pd.read_csv('Customers.csv')\n",
    "cust_df.head()"
   ]
  },
  {
   "cell_type": "code",
   "execution_count": 3,
   "id": "15b33ae8-63fe-46e5-b894-e3652c17417c",
   "metadata": {},
   "outputs": [
    {
     "data": {
      "text/plain": [
       "array([[15, 39],\n",
       "       [15, 81],\n",
       "       [16, 6],\n",
       "       [16, 77],\n",
       "       [17, 40],\n",
       "       [17, 76],\n",
       "       [18, 6],\n",
       "       [18, 94],\n",
       "       [19, 3],\n",
       "       [19, 72],\n",
       "       [19, 14],\n",
       "       [19, 99],\n",
       "       [20, 15],\n",
       "       [20, 77],\n",
       "       [20, 13],\n",
       "       [20, 79],\n",
       "       [21, 35],\n",
       "       [21, 66],\n",
       "       [23, 29],\n",
       "       [23, 98],\n",
       "       [24, 35],\n",
       "       [24, 73],\n",
       "       [25, 5],\n",
       "       [25, 73],\n",
       "       [28, 14],\n",
       "       [28, 82],\n",
       "       [28, 32],\n",
       "       [28, 61],\n",
       "       [29, 31],\n",
       "       [29, 87],\n",
       "       [30, 4],\n",
       "       [30, 73],\n",
       "       [33, 4],\n",
       "       [33, 92],\n",
       "       [33, 14],\n",
       "       [33, 81],\n",
       "       [34, 17],\n",
       "       [34, 73],\n",
       "       [37, 26],\n",
       "       [37, 75],\n",
       "       [38, 35],\n",
       "       [38, 92],\n",
       "       [39, 36],\n",
       "       [39, 61],\n",
       "       [39, 28],\n",
       "       [39, 65],\n",
       "       [40, 55],\n",
       "       [40, 47],\n",
       "       [40, 42],\n",
       "       [40, 42],\n",
       "       [42, 52],\n",
       "       [42, 60],\n",
       "       [43, 54],\n",
       "       [43, 60],\n",
       "       [43, 45],\n",
       "       [43, 41],\n",
       "       [44, 50],\n",
       "       [44, 46],\n",
       "       [46, 51],\n",
       "       [46, 46],\n",
       "       [46, 56],\n",
       "       [46, 55],\n",
       "       [47, 52],\n",
       "       [47, 59],\n",
       "       [48, 51],\n",
       "       [48, 59],\n",
       "       [48, 50],\n",
       "       [48, 48],\n",
       "       [48, 59],\n",
       "       [48, 47],\n",
       "       [49, 55],\n",
       "       [49, 42],\n",
       "       [50, 49],\n",
       "       [50, 56],\n",
       "       [54, 47],\n",
       "       [54, 54],\n",
       "       [54, 53],\n",
       "       [54, 48],\n",
       "       [54, 52],\n",
       "       [54, 42],\n",
       "       [54, 51],\n",
       "       [54, 55],\n",
       "       [54, 41],\n",
       "       [54, 44],\n",
       "       [54, 57],\n",
       "       [54, 46],\n",
       "       [57, 58],\n",
       "       [57, 55],\n",
       "       [58, 60],\n",
       "       [58, 46],\n",
       "       [59, 55],\n",
       "       [59, 41],\n",
       "       [60, 49],\n",
       "       [60, 40],\n",
       "       [60, 42],\n",
       "       [60, 52],\n",
       "       [60, 47],\n",
       "       [60, 50],\n",
       "       [61, 42],\n",
       "       [61, 49],\n",
       "       [62, 41],\n",
       "       [62, 48],\n",
       "       [62, 59],\n",
       "       [62, 55],\n",
       "       [62, 56],\n",
       "       [62, 42],\n",
       "       [63, 50],\n",
       "       [63, 46],\n",
       "       [63, 43],\n",
       "       [63, 48],\n",
       "       [63, 52],\n",
       "       [63, 54],\n",
       "       [64, 42],\n",
       "       [64, 46],\n",
       "       [65, 48],\n",
       "       [65, 50],\n",
       "       [65, 43],\n",
       "       [65, 59],\n",
       "       [67, 43],\n",
       "       [67, 57],\n",
       "       [67, 56],\n",
       "       [67, 40],\n",
       "       [69, 58],\n",
       "       [69, 91],\n",
       "       [70, 29],\n",
       "       [70, 77],\n",
       "       [71, 35],\n",
       "       [71, 95],\n",
       "       [71, 11],\n",
       "       [71, 75],\n",
       "       [71, 9],\n",
       "       [71, 75],\n",
       "       [72, 34],\n",
       "       [72, 71],\n",
       "       [73, 5],\n",
       "       [73, 88],\n",
       "       [73, 7],\n",
       "       [73, 73],\n",
       "       [74, 10],\n",
       "       [74, 72],\n",
       "       [75, 5],\n",
       "       [75, 93],\n",
       "       [76, 40],\n",
       "       [76, 87],\n",
       "       [77, 12],\n",
       "       [77, 97],\n",
       "       [77, 36],\n",
       "       [77, 74],\n",
       "       [78, 22],\n",
       "       [78, 90],\n",
       "       [78, 17],\n",
       "       [78, 88],\n",
       "       [78, 20],\n",
       "       [78, 76],\n",
       "       [78, 16],\n",
       "       [78, 89],\n",
       "       [78, 1],\n",
       "       [78, 78],\n",
       "       [78, 1],\n",
       "       [78, 73],\n",
       "       [79, 35],\n",
       "       [79, 83],\n",
       "       [81, 5],\n",
       "       [81, 93],\n",
       "       [85, 26],\n",
       "       [85, 75],\n",
       "       [86, 20],\n",
       "       [86, 95],\n",
       "       [87, 27],\n",
       "       [87, 63],\n",
       "       [87, 13],\n",
       "       [87, 75],\n",
       "       [87, 10],\n",
       "       [87, 92],\n",
       "       [88, 13],\n",
       "       [88, 86],\n",
       "       [88, 15],\n",
       "       [88, 69],\n",
       "       [93, 14],\n",
       "       [93, 90],\n",
       "       [97, 32],\n",
       "       [97, 86],\n",
       "       [98, 15],\n",
       "       [98, 88],\n",
       "       [99, 39],\n",
       "       [99, 97],\n",
       "       [101, 24],\n",
       "       [101, 68],\n",
       "       [103, 17],\n",
       "       [103, 85],\n",
       "       [103, 23],\n",
       "       [103, 69],\n",
       "       [113, 8],\n",
       "       [113, 91],\n",
       "       [120, 16],\n",
       "       [120, 79],\n",
       "       [126, 28],\n",
       "       [126, 74],\n",
       "       [137, 18],\n",
       "       [137, 83]], dtype=object)"
      ]
     },
     "execution_count": 3,
     "metadata": {},
     "output_type": "execute_result"
    }
   ],
   "source": [
    "from sklearn.preprocessing import StandardScaler\n",
    "cust_df = cust_df.values[:,[3,4]]\n",
    "cust_df_income = cust_df[:,0]\n",
    "cust_df_Score = cust_df[:,1]\n",
    "\n",
    "cust_df"
   ]
  },
  {
   "cell_type": "code",
   "execution_count": 4,
   "id": "b4754f53-6b0b-437e-bb5a-56deecb11fff",
   "metadata": {},
   "outputs": [],
   "source": [
    "center_points=cust_df[np.random.choice(cust_df.shape[0],size=5,replace=False)]"
   ]
  },
  {
   "cell_type": "code",
   "execution_count": 5,
   "id": "2e5f2712-8352-4405-baf7-353ccb82d215",
   "metadata": {},
   "outputs": [
    {
     "data": {
      "image/png": "[encoded data removed]",
      "text/plain": [
       "<Figure size 640x480 with 1 Axes>"
      ]
     },
     "metadata": {},
     "output_type": "display_data"
    }
   ],
   "source": [
    "fig = plt.figure()\n",
    "ax = fig.add_subplot()\n",
    "ax.scatter(center_points[:,0], center_points[:,1], marker='o')\n",
    "ax.scatter(cust_df_income, cust_df_Score, marker='.')\n",
    "ax.set_xlabel('X Label')\n",
    "ax.set_ylabel('Y Label')\n",
    "\n",
    "plt.show()"
   ]
  },
  {
   "cell_type": "code",
   "execution_count": 6,
   "id": "49d9b7ba-ab48-4a63-acd0-f254e9567abf",
   "metadata": {},
   "outputs": [],
   "source": [
    "def distance_3D(center_point,node):\n",
    "    return math.sqrt(((center_point[0]-node[0])**2)+((center_point[1]-node[1])**2))"
   ]
  },
  {
   "cell_type": "code",
   "execution_count": 67,
   "id": "19d23a13-febf-4b15-95e6-5e52340385b6",
   "metadata": {},
   "outputs": [],
   "source": [
    "clustering_arra=[]\n",
    "\n",
    "for node in cust_df:\n",
    "    arra=[]\n",
    "    for center_point in center_points:\n",
    "        a=distance_3D(center_point,node)\n",
    "        arra.append(a)\n",
    "    clustering_arra.append(arra.index(min(arra)))"
   ]
  },
  {
   "cell_type": "code",
   "execution_count": 68,
   "id": "e9695ea9-7381-4d11-b047-cec2e93b9dd3",
   "metadata": {},
   "outputs": [],
   "source": [
    "cust_df=np.c_[ cust_df, clustering_arra ] "
   ]
  },
  {
   "cell_type": "code",
   "execution_count": 69,
   "id": "eb67c23f-e99d-4ed8-bab2-64da99242e5e",
   "metadata": {},
   "outputs": [],
   "source": [
    "cluster0=cust_df[cust_df[:, -1] == 0, :]\n",
    "cluster1=cust_df[cust_df[:, -1] == 1, :]\n",
    "cluster2=cust_df[cust_df[:, -1] == 2, :]\n",
    "cluster3=cust_df[cust_df[:, -1] == 3, :]\n",
    "cluster4=cust_df[cust_df[:, -1] == 4, :]"
   ]
  },
  {
   "cell_type": "code",
   "execution_count": 70,
   "id": "98d12a2c-d8b2-41a4-b846-8ac24bdf269a",
   "metadata": {},
   "outputs": [
    {
     "data": {
      "text/plain": [
       "<matplotlib.collections.PathCollection at 0x1b364093380>"
      ]
     },
     "execution_count": 70,
     "metadata": {},
     "output_type": "execute_result"
    },
    {
     "data": {
      "image/png": "[encoded data removed]",
      "text/plain": [
       "<Figure size 640x480 with 1 Axes>"
      ]
     },
     "metadata": {},
     "output_type": "display_data"
    }
   ],
   "source": [
    "fig = plt.figure()\n",
    "ax = fig.add_subplot()\n",
    "plt.scatter(cluster0[:,0],cluster0[:,1],color='red',label='Group 1',marker='.')\n",
    "plt.scatter(cluster1[:,0],cluster1[:,1],color='yellow',label='Group 2',marker='.')\n",
    "plt.scatter(cluster2[:,0],cluster2[:,1],color='blue',label='Group 3',marker='.')\n",
    "plt.scatter(cluster3[:,0],cluster3[:,1],color='green',label='Group 4',marker='.')\n",
    "plt.scatter(cluster4[:,0],cluster4[:,1],color='orange',label='Group 5',marker='.')\n",
    "\n",
    "ax.scatter( center_points[:,0] ,center_points[:,1], marker='o',color=\"black\")\n"
   ]
  },
  {
   "cell_type": "code",
   "execution_count": 71,
   "id": "de7e2e3b-d0e6-4ffb-8c06-19798d480278",
   "metadata": {},
   "outputs": [],
   "source": [
    "import statistics\n",
    "center_points=np.array( [[statistics.mean(cluster0[:, 0]),statistics.mean(cluster0[:, 1])],\n",
    "                [statistics.mean(cluster1[:, 0]),statistics.mean(cluster1[:, 1])],\n",
    "                [statistics.mean(cluster2[:, 0]),statistics.mean(cluster2[:, 1])],\n",
    "                [statistics.mean(cluster3[:, 0]),statistics.mean(cluster3[:, 1])],\n",
    "                [statistics.mean(cluster4[:, 0]),statistics.mean(cluster4[:, 1])]\n",
    "              ])"
   ]
  }
 ],
 "metadata": {
  "kernelspec": {
   "display_name": "Python 3 (ipykernel)",
   "language": "python",
   "name": "python3"
  },
  "language_info": {
   "codemirror_mode": {
    "name": "ipython",
    "version": 3
   },
   "file_extension": ".py",
   "mimetype": "text/x-python",
   "name": "python",
   "nbconvert_exporter": "python",
   "pygments_lexer": "ipython3",
   "version": "3.12.0"
  }
 },
 "nbformat": 4,
 "nbformat_minor": 5
}
